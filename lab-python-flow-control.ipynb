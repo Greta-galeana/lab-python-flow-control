{
 "cells": [
  {
   "cell_type": "markdown",
   "id": "d3bfc191-8885-42ee-b0a0-bbab867c6f9f",
   "metadata": {
    "tags": []
   },
   "source": [
    "# Lab | Flow Control"
   ]
  },
  {
   "cell_type": "markdown",
   "id": "3851fcd1-cf98-4653-9c89-e003b7ec9400",
   "metadata": {},
   "source": [
    "## Exercise: Managing Customer Orders Optimized\n",
    "\n",
    "In the last lab, you were starting an online store that sells various products. To ensure smooth operations, you developed a program that manages customer orders and inventory.\n",
    "\n",
    "You did so without using flow control. Let's go a step further and improve this code.\n",
    "\n",
    "Follow the steps below to complete the exercise:\n",
    "\n",
    "1. Look at your code from the lab data structures, and improve repeated code with loops.\n",
    "\n",
    "2. Instead of asking the user to input the name of three products that a customer wants to order, do the following:\n",
    "    \n",
    "    a. Prompt the user to enter the name of a product that a customer wants to order.\n",
    "    \n",
    "    b. Add the product name to the \"customer_orders\" set.\n",
    "    \n",
    "    c. Ask the user if they want to add another product (yes/no).\n",
    "    \n",
    "    d. Continue the loop until the user does not want to add another product.\n",
    "\n",
    "3. Instead of updating the inventory by subtracting 1 from the quantity of each product, only do it for  the products that were ordered (those in \"customer_orders\")."
   ]
  },
  {
   "cell_type": "code",
   "execution_count": 1,
   "id": "47cb97f8",
   "metadata": {},
   "outputs": [],
   "source": [
    "#Define a list called `products\n",
    "\n",
    "products = [\"t-shirt\", \"mug\", \"hat\", \"book\", \"keychain\"]"
   ]
  },
  {
   "cell_type": "code",
   "execution_count": 2,
   "id": "8e7ccd83",
   "metadata": {},
   "outputs": [],
   "source": [
    "#empty dictionary called `inventory\n",
    "inventory = {}"
   ]
  },
  {
   "cell_type": "code",
   "execution_count": 4,
   "id": "144cdf3d",
   "metadata": {},
   "outputs": [
    {
     "name": "stdout",
     "output_type": "stream",
     "text": [
      "{'t-shirt': 2, 'mug': 1, 'hat': 3, 'book': 4, 'keychain': 5}\n"
     ]
    }
   ],
   "source": [
    "#3. Ask the user to input the quantity of each product available in the inventory. Use the product names from the `products`\n",
    "#  list as keys in the `inventory` dictionary and assign the respective quantities as values.\n",
    "for product in products:\n",
    "    quantity = int(input(f'Enter the quantity for {product}: '))\n",
    "    inventory[product] = (quantity)\n",
    "print (inventory)\n"
   ]
  },
  {
   "cell_type": "code",
   "execution_count": 9,
   "id": "4bfffcbf",
   "metadata": {},
   "outputs": [],
   "source": [
    "#4.Create an empty set called `customer_orders`.\n",
    "\n",
    "customer_orders = set()"
   ]
  },
  {
   "cell_type": "code",
   "execution_count": 10,
   "id": "3225e821",
   "metadata": {},
   "outputs": [
    {
     "name": "stdout",
     "output_type": "stream",
     "text": [
      "mug has been added to your order.\n",
      "hat has been added to your order.\n",
      "book has been added to your order.\n",
      "customer_orders: {'mug', 'hat', 'book'}\n"
     ]
    }
   ],
   "source": [
    "\n",
    "while len(customer_orders) < 3:\n",
    "    product_name = input('Enter the name of a product you want to order')\n",
    "    if product_name in products:\n",
    "        customer_orders.add(product_name)\n",
    "        print(f'{product_name} has been added to your order.')\n",
    "    else:\n",
    "        print(f'{product_name} is not a valid product. Please choose from {products}.')\n",
    "\n",
    "print(\"customer_orders:\", customer_orders)"
   ]
  },
  {
   "cell_type": "code",
   "execution_count": 15,
   "id": "ba7567f4",
   "metadata": {},
   "outputs": [],
   "source": [
    "#3    c. Ask the user if they want to add another product (yes/no).\n",
    "\n",
    "other_product = input(\"Do you want another product yes/no\")\n",
    "\n",
    "while True:\n",
    "\n",
    "    while True:\n",
    "\n",
    "        order = input(f\"Enter the name of product to order({', '.join(products)}): \").lower()\n",
    "\n",
    "        if order in products:\n",
    "\n",
    "            customer_orders.add(order)\n",
    "\n",
    "            break\n",
    "\n",
    "        else:\n",
    "\n",
    "            print(\"Invalid product name. Please try again.\")\n",
    "\n",
    "    while True:\n",
    "\n",
    "        control = input(\"Do you want to add another product? (yes/no): \").lower()\n",
    "\n",
    "        if control in [\"yes\", \"no\"]:\n",
    "\n",
    "            break\n",
    "\n",
    "        else:\n",
    "\n",
    "            print(\"Invalid input. Please enter 'yes' or 'no'.\")\n",
    "\n",
    "    if control == \"no\":\n",
    "\n",
    "        break\n",
    " \n",
    "    "
   ]
  },
  {
   "cell_type": "code",
   "execution_count": 11,
   "id": "bf7f16e4",
   "metadata": {},
   "outputs": [
    {
     "name": "stdout",
     "output_type": "stream",
     "text": [
      "(3, 60.0)\n"
     ]
    }
   ],
   "source": [
    "# Calculate the Total Products Ordered\n",
    "total_products_ordered = len(customer_orders)\n",
    "\n",
    "# Calculate the Percentage of Products Ordered\n",
    "total_available_products = len(products)\n",
    "percentage_ordered = (total_products_ordered / total_available_products) * 100\n",
    "\n",
    "# Store the statistics in a tuple\n",
    "order_status = (total_products_ordered, percentage_ordered)\n",
    "\n",
    "# Output the result\n",
    "print(order_status)"
   ]
  },
  {
   "cell_type": "code",
   "execution_count": 12,
   "id": "76da8cf2",
   "metadata": {},
   "outputs": [
    {
     "name": "stdout",
     "output_type": "stream",
     "text": [
      "Order Statistics:\n",
      "Total Products Ordered: 3\n",
      "Percentage of Products Ordered: 60.00%\n"
     ]
    }
   ],
   "source": [
    "#Print the order statistics using the following format:\n",
    "print(\"Order Statistics:\")\n",
    "print(f\"Total Products Ordered: {order_status[0]}\")\n",
    "print(f\"Percentage of Products Ordered: {order_status[1]:.2f}%\")"
   ]
  }
 ],
 "metadata": {
  "kernelspec": {
   "display_name": "Python 3 (ipykernel)",
   "language": "python",
   "name": "python3"
  },
  "language_info": {
   "codemirror_mode": {
    "name": "ipython",
    "version": 3
   },
   "file_extension": ".py",
   "mimetype": "text/x-python",
   "name": "python",
   "nbconvert_exporter": "python",
   "pygments_lexer": "ipython3",
   "version": "3.11.9"
  }
 },
 "nbformat": 4,
 "nbformat_minor": 5
}
